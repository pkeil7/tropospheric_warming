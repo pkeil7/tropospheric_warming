{
 "cells": [
  {
   "cell_type": "markdown",
   "metadata": {},
   "source": [
    "## This script needs to run on fat memory (at least 100GB)\n",
    "Probably 200GB for 30N-30S"
   ]
  },
  {
   "cell_type": "markdown",
   "metadata": {},
   "source": [
    "For 72 cpus it is a good idea to make chunks={\"time\" : 1, \"lon\": 1800}"
   ]
  },
  {
   "cell_type": "code",
   "execution_count": 5,
   "metadata": {},
   "outputs": [],
   "source": [
    "import xarray as xr\n",
    "import matplotlib.pyplot as plt\n",
    "import metcalc\n",
    "import numpy as np\n",
    "import scipy.interpolate as scint\n",
    "import cartopy.crs as ccrs"
   ]
  },
  {
   "cell_type": "code",
   "execution_count": null,
   "metadata": {},
   "outputs": [],
   "source": [
    "WORK_DIR = \"/work/mh0066/m300577/perpetual_jan/\""
   ]
  },
  {
   "cell_type": "code",
   "execution_count": 6,
   "metadata": {},
   "outputs": [],
   "source": [
    "def interp1d_np(data, x, xi):\n",
    "    return np.interp(xi, x, data, left=float('NaN'),right=float('NaN'))\n",
    "\n",
    "\n",
    "def xr_vertical_in(da,da_p,plevels) :\n",
    "    # follows the examples from here : https://github.com/pydata/xarray/issues/3931\n",
    "    # and here: http://xarray.pydata.org/en/stable/examples/apply_ufunc_vectorize_1d.html\n",
    "      \n",
    "    interped = xr.apply_ufunc(\n",
    "        interp1d_np,  # first the function\n",
    "        da,  # now arguments in the order expected by 'interp1_np'\n",
    "        da_p,  # as above\n",
    "        plevels,  # as above\n",
    "        input_core_dims=[[\"height\"], [\"height\"], [\"plev\"]],  # list with one entry per arg\n",
    "        output_core_dims=[[\"plev\"]],  # returned data has one dimension\n",
    "        #exclude_dims=set((\"height\",)),  # dimensions allowed to change size. Must be a set!\n",
    "        vectorize=True,  # loop over non-core dims\n",
    "        dask=\"parallelized\",\n",
    "        output_dtypes=[da.dtype],  # one per output\n",
    "        #allow_rechunk=True\n",
    "    )\n",
    "    interped[\"plev\"] = plevels\n",
    "    return interped\n",
    "\n"
   ]
  },
  {
   "cell_type": "code",
   "execution_count": 9,
   "metadata": {},
   "outputs": [],
   "source": [
    "\n",
    "def preproc(expid,\n",
    "            var,\n",
    "            stream,\n",
    "            months=[\"04\",\"05\",\"06\",\"07\",\"08\",\"09\"],\n",
    "            levels=np.arange(15.,73.,1.),\n",
    "            plevels=np.array([1000,950,925,900,850,775,700,650,600,550,500,450,400,350,300,275,250,225,200,175,150,125,100])*100.,\n",
    "            high_res=True,\n",
    "            lat_band=20,\n",
    "            chunks = {\"time\": 1},\n",
    "            correct_dims=False\n",
    "           ) :\n",
    "    \n",
    "    '''stream is 3 vor ta and hus, 2 for us and va'''\n",
    "    if high_res == True :\n",
    "        res = \"01x01\"\n",
    "    else :\n",
    "        res = \"1x1\"\n",
    "\n",
    "    for mon in months :\n",
    "        \n",
    "        print(\"month: \" + mon)\n",
    "        \n",
    "        var_files = f\"{WORK_DIR}/{expid}/{expid}_atm_3d_{str(stream)}_ml_1979{mon}??T000000Z_{var}_{res}.nc\"\n",
    "        \n",
    "        print(var_files)\n",
    "        \n",
    "        p_files = f\"{WORK_DIR}/{expid}/{expid}__atm_3d_1_ml_1979{mon}??T000000Z_pfull_{res}.nc\"\n",
    "        \n",
    "        var_ds = xr.open_mfdataset(var_files, concat_dim=\"time\", parallel=True,combine=\"nested\",chunks=chunks)\n",
    "\n",
    "        p_ds = xr.open_mfdataset(p_files, concat_dim=\"time\",parallel=True,combine=\"nested\",chunks=chunks)\n",
    "        \n",
    "        print(var_ds)\n",
    "\n",
    "        var_tropics_ = var_ds[var].sel(lat=slice(-lat_band,lat_band))\n",
    "        p_tropics_ = p_ds.pfull.sel(lat=slice(-lat_band,lat_band))\n",
    "        \n",
    "        if high_res == True :\n",
    "            var_tropics_ = var_tropics_.sel(height=levels)\n",
    "            p_tropics_ = p_tropics_.sel(height=levels)\n",
    "        \n",
    "        print(\"load data, select latbands and heights...\")\n",
    "\n",
    "        var_tropics = var_tropics_#.compute()\n",
    "        p_tropics = p_tropics_#.compute()\n",
    "        #print(var_tropics.lat)\n",
    "        #print(p_tropics.lat)\n",
    "        \n",
    "        if correct_dims : # this is needed if for some reason the coordinates do not match perfectly...\n",
    "            var_tropics[\"lat\"] = p_tropics.lat\n",
    "            var_tropics[\"lon\"] = p_tropics.lon\n",
    "        \n",
    "        print(\"vertical interpolation...\")\n",
    "\n",
    "        var_int_ = xr_vertical_in(var_tropics,p_tropics,plevels).to_dataset(name=var)\n",
    "\n",
    "        var_int = var_int_.compute()\n",
    "        var_int.to_netcdf(f\"{WORK_DIR}/\" + expid + \"/\" + expid + \"_\" + var + \"_\"+ str(lat_band) + \"N-\" + str(lat_band) + \"S_1979\" + mon + \".nc\")\n",
    "\n",
    "        print(\"time mean...\")\n",
    "        var_int_tm = var_int.mean(\"time\")\n",
    "\n",
    "        var_int_tm.to_netcdf(f\"{WORK_DIR}/\" + expid + \"/\" + expid + \"_\" + var + \"_\" + str(lat_band) + \"N-\" + str(lat_band) + \"S_1979\" + mon + \"_timemean.nc\")\n",
    "\n",
    "        del var_tropics\n",
    "        del p_tropics\n"
   ]
  },
  {
   "cell_type": "code",
   "execution_count": 11,
   "metadata": {},
   "outputs": [],
   "source": [
    "\n",
    "def preproc_2d(expid,\n",
    "            var,\n",
    "            months=[\"04\",\"05\",\"06\",\"07\",\"08\",\"09\"],\n",
    "            lat_band=20\n",
    "            ) :\n",
    "    \n",
    "\n",
    "    for mon in months :\n",
    "        \n",
    "        print(\"month: \" + mon)\n",
    "        \n",
    "        var_files = f\"{WORK_DIR}/{expid}/{expid}_atm_2d_ml_1979{mon}??T000000Z_*{var}*.nc\"\n",
    "        \n",
    "        \n",
    "        var_ds = xr.open_mfdataset(var_files, concat_dim=\"time\", parallel=True,combine=\"nested\")\n",
    "\n",
    "        var_tropics_ = var_ds[var].sel(lat=slice(-lat_band,lat_band))\n",
    "\n",
    "        print(\"load data, select latbands and heights...\")\n",
    "\n",
    "        var_tropics = var_tropics_.compute()\n",
    "\n",
    "        var_tropics.to_netcdf(f\"{WORK_DIR}/\" + expid + \"/\" + expid + \"_\" + var + \"_\" + str(lat_band) + \"N-\" + str(lat_band) + \"S_1979\" + mon + \".nc\")\n",
    "\n",
    "        print(\"time mean...\")\n",
    "        var_tropics_tm = var_tropics.mean(\"time\")\n",
    "\n",
    "        var_tropics_tm.to_netcdf(f\"{WORK_DIR}/\" + expid + \"/\" + expid + \"_\" + var + \"_\" + str(lat_band) + \"N-\" + str(lat_band) + \"S_1979\" + mon + \"_timemean.nc\")\n",
    "\n",
    "        del var_tropics\n"
   ]
  },
  {
   "cell_type": "markdown",
   "metadata": {},
   "source": [
    "!!\n",
    "\n",
    "For 3d:\n",
    "\n",
    "- stream 1, 2 or 3\n",
    "- use preproc()\n",
    "\n",
    "For 3d tendencies:\n",
    "\n",
    "- use preproc_tend()\n",
    "\n",
    "For 2d :\n",
    "\n",
    "- Use preproc_2d()\n",
    "\n",
    "!!\n",
    "\n"
   ]
  },
  {
   "cell_type": "code",
   "execution_count": 12,
   "metadata": {},
   "outputs": [],
   "source": [
    "all_months = [\"02\",\"03\",\"04\",\"05\",\"06\",\"07\",\"08\",\"09\"]"
   ]
  },
  {
   "cell_type": "code",
   "execution_count": 14,
   "metadata": {},
   "outputs": [
    {
     "name": "stdout",
     "output_type": "stream",
     "text": [
      "month: 02\n",
      "load data, select latbands and heights...\n",
      "time mean...\n",
      "month: 03\n",
      "load data, select latbands and heights...\n",
      "time mean...\n",
      "month: 04\n",
      "load data, select latbands and heights...\n",
      "time mean...\n",
      "month: 05\n",
      "load data, select latbands and heights...\n",
      "time mean...\n",
      "month: 06\n",
      "load data, select latbands and heights...\n",
      "time mean...\n",
      "month: 07\n",
      "load data, select latbands and heights...\n",
      "time mean...\n",
      "month: 08\n",
      "load data, select latbands and heights...\n",
      "time mean...\n",
      "month: 09\n",
      "load data, select latbands and heights...\n",
      "time mean...\n"
     ]
    }
   ],
   "source": [
    "preproc_2d(\"dap0013-dc\",\"prw\",lat_band=20,months=all_months)"
   ]
  },
  {
   "cell_type": "code",
   "execution_count": null,
   "metadata": {},
   "outputs": [],
   "source": []
  }
 ],
 "metadata": {
  "kernelspec": {
   "display_name": "Python 3 (based on the module python3/2023.01)",
   "language": "python",
   "name": "python3_2023_01"
  },
  "language_info": {
   "codemirror_mode": {
    "name": "ipython",
    "version": 3
   },
   "file_extension": ".py",
   "mimetype": "text/x-python",
   "name": "python",
   "nbconvert_exporter": "python",
   "pygments_lexer": "ipython3",
   "version": "3.10.10"
  }
 },
 "nbformat": 4,
 "nbformat_minor": 4
}
